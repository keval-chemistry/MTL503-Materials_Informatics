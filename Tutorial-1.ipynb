{
 "cells": [
  {
   "cell_type": "code",
   "execution_count": null,
   "metadata": {},
   "outputs": [],
   "source": [
    "%pip install mp_api"
   ]
  },
  {
   "cell_type": "markdown",
   "metadata": {},
   "source": [
    "Answer-1:"
   ]
  },
  {
   "cell_type": "code",
   "execution_count": null,
   "metadata": {},
   "outputs": [],
   "source": [
    "# For ABX3 type of materials:\n",
    "from mp_api.client import MPRester\n",
    "with MPRester(\"qWt7XCCW0KSAdJaw21EMISEgzm4ZPk7n\") as mpr:\n",
    "    materials = mpr.materials.summary.search(\n",
    "        formula = [\"***3\"],\n",
    "        fields = [\"material_id\", \"formula_pretty\"]\n",
    "    )\n",
    "material_dict = {x.material_id: x.formula_pretty for x in materials}\n",
    "print(len(material_dict))\n",
    "print(material_dict)\n",
    "\n",
    "# To get structure with material_id:\n",
    "structure = mpr.materials.get_structure_by_material_id(\"mp-1183115\")\n",
    "print(structure)"
   ]
  },
  {
   "cell_type": "markdown",
   "metadata": {},
   "source": [
    "Answer-2:"
   ]
  },
  {
   "cell_type": "code",
   "execution_count": null,
   "metadata": {},
   "outputs": [],
   "source": []
  }
 ],
 "metadata": {
  "kernelspec": {
   "display_name": "py312",
   "language": "python",
   "name": "py312"
  },
  "language_info": {
   "codemirror_mode": {
    "name": "ipython",
    "version": 3
   },
   "file_extension": ".py",
   "mimetype": "text/x-python",
   "name": "python",
   "nbconvert_exporter": "python",
   "pygments_lexer": "ipython3",
   "version": "3.12.4"
  }
 },
 "nbformat": 4,
 "nbformat_minor": 2
}
